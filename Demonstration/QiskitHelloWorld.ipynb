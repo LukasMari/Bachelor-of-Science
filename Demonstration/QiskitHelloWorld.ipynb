{
 "cells": [
  {
   "cell_type": "code",
   "execution_count": 1,
   "metadata": {},
   "outputs": [],
   "source": [
    "from qiskit import *"
   ]
  },
  {
   "cell_type": "code",
   "execution_count": 2,
   "metadata": {},
   "outputs": [],
   "source": [
    "qr = QuantumRegister(2)"
   ]
  },
  {
   "cell_type": "code",
   "execution_count": 3,
   "metadata": {},
   "outputs": [],
   "source": [
    "cr = ClassicalRegister(2)"
   ]
  },
  {
   "cell_type": "code",
   "execution_count": 4,
   "metadata": {},
   "outputs": [],
   "source": [
    "circuit = QuantumCircuit(qr, cr)"
   ]
  },
  {
   "cell_type": "code",
   "execution_count": 5,
   "metadata": {},
   "outputs": [
    {
     "ename": "ModuleNotFoundError",
     "evalue": "No module named 'matplotlib'",
     "output_type": "error",
     "traceback": [
      "\u001b[1;31m---------------------------------------------------------------------------\u001b[0m",
      "\u001b[1;31mModuleNotFoundError\u001b[0m                       Traceback (most recent call last)",
      "\u001b[1;32m<ipython-input-5-9e3324102725>\u001b[0m in \u001b[0;36m<module>\u001b[1;34m\u001b[0m\n\u001b[1;32m----> 1\u001b[1;33m \u001b[0mget_ipython\u001b[0m\u001b[1;33m(\u001b[0m\u001b[1;33m)\u001b[0m\u001b[1;33m.\u001b[0m\u001b[0mrun_line_magic\u001b[0m\u001b[1;33m(\u001b[0m\u001b[1;34m'matplotlib'\u001b[0m\u001b[1;33m,\u001b[0m \u001b[1;34m'inline'\u001b[0m\u001b[1;33m)\u001b[0m\u001b[1;33m\u001b[0m\u001b[1;33m\u001b[0m\u001b[0m\n\u001b[0m",
      "\u001b[1;32mc:\\users\\lukas\\anaconda3\\envs\\quantum\\lib\\site-packages\\IPython\\core\\interactiveshell.py\u001b[0m in \u001b[0;36mrun_line_magic\u001b[1;34m(self, magic_name, line, _stack_depth)\u001b[0m\n\u001b[0;32m   2315\u001b[0m                 \u001b[0mkwargs\u001b[0m\u001b[1;33m[\u001b[0m\u001b[1;34m'local_ns'\u001b[0m\u001b[1;33m]\u001b[0m \u001b[1;33m=\u001b[0m \u001b[0msys\u001b[0m\u001b[1;33m.\u001b[0m\u001b[0m_getframe\u001b[0m\u001b[1;33m(\u001b[0m\u001b[0mstack_depth\u001b[0m\u001b[1;33m)\u001b[0m\u001b[1;33m.\u001b[0m\u001b[0mf_locals\u001b[0m\u001b[1;33m\u001b[0m\u001b[1;33m\u001b[0m\u001b[0m\n\u001b[0;32m   2316\u001b[0m             \u001b[1;32mwith\u001b[0m \u001b[0mself\u001b[0m\u001b[1;33m.\u001b[0m\u001b[0mbuiltin_trap\u001b[0m\u001b[1;33m:\u001b[0m\u001b[1;33m\u001b[0m\u001b[1;33m\u001b[0m\u001b[0m\n\u001b[1;32m-> 2317\u001b[1;33m                 \u001b[0mresult\u001b[0m \u001b[1;33m=\u001b[0m \u001b[0mfn\u001b[0m\u001b[1;33m(\u001b[0m\u001b[1;33m*\u001b[0m\u001b[0margs\u001b[0m\u001b[1;33m,\u001b[0m \u001b[1;33m**\u001b[0m\u001b[0mkwargs\u001b[0m\u001b[1;33m)\u001b[0m\u001b[1;33m\u001b[0m\u001b[1;33m\u001b[0m\u001b[0m\n\u001b[0m\u001b[0;32m   2318\u001b[0m             \u001b[1;32mreturn\u001b[0m \u001b[0mresult\u001b[0m\u001b[1;33m\u001b[0m\u001b[1;33m\u001b[0m\u001b[0m\n\u001b[0;32m   2319\u001b[0m \u001b[1;33m\u001b[0m\u001b[0m\n",
      "\u001b[1;32m<decorator-gen-109>\u001b[0m in \u001b[0;36mmatplotlib\u001b[1;34m(self, line)\u001b[0m\n",
      "\u001b[1;32mc:\\users\\lukas\\anaconda3\\envs\\quantum\\lib\\site-packages\\IPython\\core\\magic.py\u001b[0m in \u001b[0;36m<lambda>\u001b[1;34m(f, *a, **k)\u001b[0m\n\u001b[0;32m    185\u001b[0m     \u001b[1;31m# but it's overkill for just that one bit of state.\u001b[0m\u001b[1;33m\u001b[0m\u001b[1;33m\u001b[0m\u001b[1;33m\u001b[0m\u001b[0m\n\u001b[0;32m    186\u001b[0m     \u001b[1;32mdef\u001b[0m \u001b[0mmagic_deco\u001b[0m\u001b[1;33m(\u001b[0m\u001b[0marg\u001b[0m\u001b[1;33m)\u001b[0m\u001b[1;33m:\u001b[0m\u001b[1;33m\u001b[0m\u001b[1;33m\u001b[0m\u001b[0m\n\u001b[1;32m--> 187\u001b[1;33m         \u001b[0mcall\u001b[0m \u001b[1;33m=\u001b[0m \u001b[1;32mlambda\u001b[0m \u001b[0mf\u001b[0m\u001b[1;33m,\u001b[0m \u001b[1;33m*\u001b[0m\u001b[0ma\u001b[0m\u001b[1;33m,\u001b[0m \u001b[1;33m**\u001b[0m\u001b[0mk\u001b[0m\u001b[1;33m:\u001b[0m \u001b[0mf\u001b[0m\u001b[1;33m(\u001b[0m\u001b[1;33m*\u001b[0m\u001b[0ma\u001b[0m\u001b[1;33m,\u001b[0m \u001b[1;33m**\u001b[0m\u001b[0mk\u001b[0m\u001b[1;33m)\u001b[0m\u001b[1;33m\u001b[0m\u001b[1;33m\u001b[0m\u001b[0m\n\u001b[0m\u001b[0;32m    188\u001b[0m \u001b[1;33m\u001b[0m\u001b[0m\n\u001b[0;32m    189\u001b[0m         \u001b[1;32mif\u001b[0m \u001b[0mcallable\u001b[0m\u001b[1;33m(\u001b[0m\u001b[0marg\u001b[0m\u001b[1;33m)\u001b[0m\u001b[1;33m:\u001b[0m\u001b[1;33m\u001b[0m\u001b[1;33m\u001b[0m\u001b[0m\n",
      "\u001b[1;32mc:\\users\\lukas\\anaconda3\\envs\\quantum\\lib\\site-packages\\IPython\\core\\magics\\pylab.py\u001b[0m in \u001b[0;36mmatplotlib\u001b[1;34m(self, line)\u001b[0m\n\u001b[0;32m     97\u001b[0m             \u001b[0mprint\u001b[0m\u001b[1;33m(\u001b[0m\u001b[1;34m\"Available matplotlib backends: %s\"\u001b[0m \u001b[1;33m%\u001b[0m \u001b[0mbackends_list\u001b[0m\u001b[1;33m)\u001b[0m\u001b[1;33m\u001b[0m\u001b[1;33m\u001b[0m\u001b[0m\n\u001b[0;32m     98\u001b[0m         \u001b[1;32melse\u001b[0m\u001b[1;33m:\u001b[0m\u001b[1;33m\u001b[0m\u001b[1;33m\u001b[0m\u001b[0m\n\u001b[1;32m---> 99\u001b[1;33m             \u001b[0mgui\u001b[0m\u001b[1;33m,\u001b[0m \u001b[0mbackend\u001b[0m \u001b[1;33m=\u001b[0m \u001b[0mself\u001b[0m\u001b[1;33m.\u001b[0m\u001b[0mshell\u001b[0m\u001b[1;33m.\u001b[0m\u001b[0menable_matplotlib\u001b[0m\u001b[1;33m(\u001b[0m\u001b[0margs\u001b[0m\u001b[1;33m.\u001b[0m\u001b[0mgui\u001b[0m\u001b[1;33m.\u001b[0m\u001b[0mlower\u001b[0m\u001b[1;33m(\u001b[0m\u001b[1;33m)\u001b[0m \u001b[1;32mif\u001b[0m \u001b[0misinstance\u001b[0m\u001b[1;33m(\u001b[0m\u001b[0margs\u001b[0m\u001b[1;33m.\u001b[0m\u001b[0mgui\u001b[0m\u001b[1;33m,\u001b[0m \u001b[0mstr\u001b[0m\u001b[1;33m)\u001b[0m \u001b[1;32melse\u001b[0m \u001b[0margs\u001b[0m\u001b[1;33m.\u001b[0m\u001b[0mgui\u001b[0m\u001b[1;33m)\u001b[0m\u001b[1;33m\u001b[0m\u001b[1;33m\u001b[0m\u001b[0m\n\u001b[0m\u001b[0;32m    100\u001b[0m             \u001b[0mself\u001b[0m\u001b[1;33m.\u001b[0m\u001b[0m_show_matplotlib_backend\u001b[0m\u001b[1;33m(\u001b[0m\u001b[0margs\u001b[0m\u001b[1;33m.\u001b[0m\u001b[0mgui\u001b[0m\u001b[1;33m,\u001b[0m \u001b[0mbackend\u001b[0m\u001b[1;33m)\u001b[0m\u001b[1;33m\u001b[0m\u001b[1;33m\u001b[0m\u001b[0m\n\u001b[0;32m    101\u001b[0m \u001b[1;33m\u001b[0m\u001b[0m\n",
      "\u001b[1;32mc:\\users\\lukas\\anaconda3\\envs\\quantum\\lib\\site-packages\\IPython\\core\\interactiveshell.py\u001b[0m in \u001b[0;36menable_matplotlib\u001b[1;34m(self, gui)\u001b[0m\n\u001b[0;32m   3405\u001b[0m         \"\"\"\n\u001b[0;32m   3406\u001b[0m         \u001b[1;32mfrom\u001b[0m \u001b[0mIPython\u001b[0m\u001b[1;33m.\u001b[0m\u001b[0mcore\u001b[0m \u001b[1;32mimport\u001b[0m \u001b[0mpylabtools\u001b[0m \u001b[1;32mas\u001b[0m \u001b[0mpt\u001b[0m\u001b[1;33m\u001b[0m\u001b[1;33m\u001b[0m\u001b[0m\n\u001b[1;32m-> 3407\u001b[1;33m         \u001b[0mgui\u001b[0m\u001b[1;33m,\u001b[0m \u001b[0mbackend\u001b[0m \u001b[1;33m=\u001b[0m \u001b[0mpt\u001b[0m\u001b[1;33m.\u001b[0m\u001b[0mfind_gui_and_backend\u001b[0m\u001b[1;33m(\u001b[0m\u001b[0mgui\u001b[0m\u001b[1;33m,\u001b[0m \u001b[0mself\u001b[0m\u001b[1;33m.\u001b[0m\u001b[0mpylab_gui_select\u001b[0m\u001b[1;33m)\u001b[0m\u001b[1;33m\u001b[0m\u001b[1;33m\u001b[0m\u001b[0m\n\u001b[0m\u001b[0;32m   3408\u001b[0m \u001b[1;33m\u001b[0m\u001b[0m\n\u001b[0;32m   3409\u001b[0m         \u001b[1;32mif\u001b[0m \u001b[0mgui\u001b[0m \u001b[1;33m!=\u001b[0m \u001b[1;34m'inline'\u001b[0m\u001b[1;33m:\u001b[0m\u001b[1;33m\u001b[0m\u001b[1;33m\u001b[0m\u001b[0m\n",
      "\u001b[1;32mc:\\users\\lukas\\anaconda3\\envs\\quantum\\lib\\site-packages\\IPython\\core\\pylabtools.py\u001b[0m in \u001b[0;36mfind_gui_and_backend\u001b[1;34m(gui, gui_select)\u001b[0m\n\u001b[0;32m    278\u001b[0m     \"\"\"\n\u001b[0;32m    279\u001b[0m \u001b[1;33m\u001b[0m\u001b[0m\n\u001b[1;32m--> 280\u001b[1;33m     \u001b[1;32mimport\u001b[0m \u001b[0mmatplotlib\u001b[0m\u001b[1;33m\u001b[0m\u001b[1;33m\u001b[0m\u001b[0m\n\u001b[0m\u001b[0;32m    281\u001b[0m \u001b[1;33m\u001b[0m\u001b[0m\n\u001b[0;32m    282\u001b[0m     \u001b[1;32mif\u001b[0m \u001b[0mgui\u001b[0m \u001b[1;32mand\u001b[0m \u001b[0mgui\u001b[0m \u001b[1;33m!=\u001b[0m \u001b[1;34m'auto'\u001b[0m\u001b[1;33m:\u001b[0m\u001b[1;33m\u001b[0m\u001b[1;33m\u001b[0m\u001b[0m\n",
      "\u001b[1;31mModuleNotFoundError\u001b[0m: No module named 'matplotlib'"
     ]
    }
   ],
   "source": [
    "%matplotlib inline"
   ]
  },
  {
   "cell_type": "code",
   "execution_count": null,
   "metadata": {},
   "outputs": [],
   "source": [
    "circuit.draw()"
   ]
  },
  {
   "cell_type": "code",
   "execution_count": null,
   "metadata": {},
   "outputs": [],
   "source": [
    "circuit.h(qr[0])"
   ]
  },
  {
   "cell_type": "code",
   "execution_count": null,
   "metadata": {},
   "outputs": [],
   "source": [
    "circuit.draw(output = 'mpl')"
   ]
  },
  {
   "cell_type": "code",
   "execution_count": null,
   "metadata": {},
   "outputs": [],
   "source": [
    "circuit.cx(qr[0], qr[1])"
   ]
  },
  {
   "cell_type": "code",
   "execution_count": null,
   "metadata": {},
   "outputs": [],
   "source": [
    "circuit.draw()"
   ]
  },
  {
   "cell_type": "code",
   "execution_count": null,
   "metadata": {},
   "outputs": [],
   "source": [
    "circuit.measure(qr, cr)"
   ]
  },
  {
   "cell_type": "code",
   "execution_count": 6,
   "metadata": {},
   "outputs": [
    {
     "ename": "ImportError",
     "evalue": "The class MatplotlibDrawer needs matplotlib. To install, run \"pip install matplotlib\".",
     "output_type": "error",
     "traceback": [
      "\u001b[1;31m---------------------------------------------------------------------------\u001b[0m",
      "\u001b[1;31mImportError\u001b[0m                               Traceback (most recent call last)",
      "\u001b[1;32m<ipython-input-6-fc4865f4f2ab>\u001b[0m in \u001b[0;36m<module>\u001b[1;34m\u001b[0m\n\u001b[1;32m----> 1\u001b[1;33m \u001b[0mcircuit\u001b[0m\u001b[1;33m.\u001b[0m\u001b[0mdraw\u001b[0m\u001b[1;33m(\u001b[0m\u001b[0moutput\u001b[0m \u001b[1;33m=\u001b[0m\u001b[1;34m'mpl'\u001b[0m\u001b[1;33m)\u001b[0m\u001b[1;33m\u001b[0m\u001b[1;33m\u001b[0m\u001b[0m\n\u001b[0m",
      "\u001b[1;32mc:\\users\\lukas\\anaconda3\\envs\\quantum\\lib\\site-packages\\qiskit\\circuit\\quantumcircuit.py\u001b[0m in \u001b[0;36mdraw\u001b[1;34m(self, output, scale, filename, style, interactive, line_length, plot_barriers, reverse_bits, justify, vertical_compression, idle_wires, with_layout, fold, ax, initial_state)\u001b[0m\n\u001b[0;32m    910\u001b[0m                               \u001b[0mfold\u001b[0m\u001b[1;33m=\u001b[0m\u001b[0mfold\u001b[0m\u001b[1;33m,\u001b[0m\u001b[1;33m\u001b[0m\u001b[1;33m\u001b[0m\u001b[0m\n\u001b[0;32m    911\u001b[0m                               \u001b[0max\u001b[0m\u001b[1;33m=\u001b[0m\u001b[0max\u001b[0m\u001b[1;33m,\u001b[0m\u001b[1;33m\u001b[0m\u001b[1;33m\u001b[0m\u001b[0m\n\u001b[1;32m--> 912\u001b[1;33m                               initial_state=initial_state)\n\u001b[0m\u001b[0;32m    913\u001b[0m \u001b[1;33m\u001b[0m\u001b[0m\n\u001b[0;32m    914\u001b[0m     \u001b[1;32mdef\u001b[0m \u001b[0msize\u001b[0m\u001b[1;33m(\u001b[0m\u001b[0mself\u001b[0m\u001b[1;33m)\u001b[0m\u001b[1;33m:\u001b[0m\u001b[1;33m\u001b[0m\u001b[1;33m\u001b[0m\u001b[0m\n",
      "\u001b[1;32mc:\\users\\lukas\\anaconda3\\envs\\quantum\\lib\\site-packages\\qiskit\\visualization\\circuit_visualization.py\u001b[0m in \u001b[0;36mcircuit_drawer\u001b[1;34m(circuit, scale, filename, style, output, interactive, line_length, plot_barriers, reverse_bits, justify, vertical_compression, idle_wires, with_layout, fold, ax, initial_state)\u001b[0m\n\u001b[0;32m    316\u001b[0m                                            \u001b[0mwith_layout\u001b[0m\u001b[1;33m=\u001b[0m\u001b[0mwith_layout\u001b[0m\u001b[1;33m,\u001b[0m\u001b[1;33m\u001b[0m\u001b[1;33m\u001b[0m\u001b[0m\n\u001b[0;32m    317\u001b[0m                                            \u001b[0mfold\u001b[0m\u001b[1;33m=\u001b[0m\u001b[0mfold\u001b[0m\u001b[1;33m,\u001b[0m\u001b[1;33m\u001b[0m\u001b[1;33m\u001b[0m\u001b[0m\n\u001b[1;32m--> 318\u001b[1;33m                                            ax=ax)\n\u001b[0m\u001b[0;32m    319\u001b[0m     \u001b[1;32melse\u001b[0m\u001b[1;33m:\u001b[0m\u001b[1;33m\u001b[0m\u001b[1;33m\u001b[0m\u001b[0m\n\u001b[0;32m    320\u001b[0m         raise exceptions.VisualizationError(\n",
      "\u001b[1;32mc:\\users\\lukas\\anaconda3\\envs\\quantum\\lib\\site-packages\\qiskit\\visualization\\circuit_visualization.py\u001b[0m in \u001b[0;36m_matplotlib_circuit_drawer\u001b[1;34m(circuit, scale, filename, style, plot_barriers, reverse_bits, justify, idle_wires, with_layout, fold, ax)\u001b[0m\n\u001b[0;32m    653\u001b[0m                                        \u001b[0mplot_barriers\u001b[0m\u001b[1;33m=\u001b[0m\u001b[0mplot_barriers\u001b[0m\u001b[1;33m,\u001b[0m\u001b[1;33m\u001b[0m\u001b[1;33m\u001b[0m\u001b[0m\n\u001b[0;32m    654\u001b[0m                                        \u001b[0mreverse_bits\u001b[0m\u001b[1;33m=\u001b[0m\u001b[0mreverse_bits\u001b[0m\u001b[1;33m,\u001b[0m \u001b[0mlayout\u001b[0m\u001b[1;33m=\u001b[0m\u001b[0mlayout\u001b[0m\u001b[1;33m,\u001b[0m\u001b[1;33m\u001b[0m\u001b[1;33m\u001b[0m\u001b[0m\n\u001b[1;32m--> 655\u001b[1;33m                                        fold=fold, ax=ax)\n\u001b[0m\u001b[0;32m    656\u001b[0m     \u001b[1;32mreturn\u001b[0m \u001b[0mqcd\u001b[0m\u001b[1;33m.\u001b[0m\u001b[0mdraw\u001b[0m\u001b[1;33m(\u001b[0m\u001b[0mfilename\u001b[0m\u001b[1;33m)\u001b[0m\u001b[1;33m\u001b[0m\u001b[1;33m\u001b[0m\u001b[0m\n",
      "\u001b[1;32mc:\\users\\lukas\\anaconda3\\envs\\quantum\\lib\\site-packages\\qiskit\\visualization\\matplotlib.py\u001b[0m in \u001b[0;36m__init__\u001b[1;34m(self, qregs, cregs, ops, scale, style, plot_barriers, reverse_bits, layout, fold, ax)\u001b[0m\n\u001b[0;32m    108\u001b[0m \u001b[1;33m\u001b[0m\u001b[0m\n\u001b[0;32m    109\u001b[0m         \u001b[1;32mif\u001b[0m \u001b[1;32mnot\u001b[0m \u001b[0mHAS_MATPLOTLIB\u001b[0m\u001b[1;33m:\u001b[0m\u001b[1;33m\u001b[0m\u001b[1;33m\u001b[0m\u001b[0m\n\u001b[1;32m--> 110\u001b[1;33m             raise ImportError('The class MatplotlibDrawer needs matplotlib. '\n\u001b[0m\u001b[0;32m    111\u001b[0m                               'To install, run \"pip install matplotlib\".')\n\u001b[0;32m    112\u001b[0m \u001b[1;33m\u001b[0m\u001b[0m\n",
      "\u001b[1;31mImportError\u001b[0m: The class MatplotlibDrawer needs matplotlib. To install, run \"pip install matplotlib\"."
     ]
    }
   ],
   "source": [
    "circuit.draw(output ='mpl')"
   ]
  },
  {
   "cell_type": "code",
   "execution_count": 7,
   "metadata": {},
   "outputs": [],
   "source": [
    "# Quantum assambly language AER local quantum simulation\n",
    "simulator = Aer.get_backend('qasm_simulator')"
   ]
  },
  {
   "cell_type": "code",
   "execution_count": 14,
   "metadata": {},
   "outputs": [],
   "source": [
    "result = execute(circuit, backend = simulator).result()"
   ]
  },
  {
   "cell_type": "code",
   "execution_count": 15,
   "metadata": {},
   "outputs": [],
   "source": [
    "from qiskit.tools.visualization import plot_histogram"
   ]
  },
  {
   "cell_type": "code",
   "execution_count": 16,
   "metadata": {},
   "outputs": [
    {
     "data": {
      "image/png": "iVBORw0KGgoAAAANSUhEUgAAAc0AAAE9CAYAAABp1zkEAAAABHNCSVQICAgIfAhkiAAAAAlwSFlzAAALEgAACxIB0t1+/AAAADh0RVh0U29mdHdhcmUAbWF0cGxvdGxpYiB2ZXJzaW9uMy4xLjMsIGh0dHA6Ly9tYXRwbG90bGliLm9yZy+AADFEAAAgAElEQVR4nO3df5xWdZ338dfHGRnxRgpwAflhgCIJtKPTKNEi1KPcilqX1V2z3dxcf91m6sPcyn7ttrV3WWatrlkUbbdtbtpqubaGpf0AxCZwoMUAAzYGA+JHIN3qiiD4uf+4rqGLcWY4I8M1w/B6Ph7z4Lq+53vO9TkOF2+/53zPOZGZSJKkAzuqpwuQJOlwYWhKklSQoSlJUkGGpiRJBRmakiQVZGhKklSQoSlJUkFVD82IuDIiWiLiuYhYEhFnHaB/RMS1EfHLiNgVEZsi4tNt+swob+u5iFgbEVcc2r2QJB2JqhqaEfF24BbgU8DpwE+BByLixE5W+xxwJXA9cCowE1hQsc2xwNzytk4HbgBujYjzDsU+SJKOXFHNOwJFxCLgscy8rKJtDXBPZn6onf4TgOXAH2bm4x1s8zPAuZk5vqLtq8CkzJzaWT3HH398jhkz5iXtiySpb1qyZMm2zPyD9pbVVquIiOgHvBq4qc2iB4HXdrDanwJrgTdHxPcojYznA+/PzK3lPlPL26j0A+BdEXF0Zj7fUU1jxoyhubm5azsiSerTIuKJjpZV8/Ds8UANsKVN+xZgeAfrjANeAVwAXARcCLwS+M+IaK19eAfbrC1/piRJ3aJqI80KbY8HRzttrY4C6oALM3M1QERcCKwCzgAWdbLN9tqJiMuBywFGjBjBvHnzABg3bhzHHXccy5YtA2DIkCFMmjSJBQtKp09ra2uZNm0aS5cu5amnngKgsbGRLVu2sH79egDGjx9PXV0dy5cvB2Do0KGccsopLFy4EIC6ujqmTp1Kc3MzzzzzDABTpkxhw4YNbNy4EYAJEyZQU1PDypUrARg+fDhjx46lqakJgP79+zNlyhQWLVrEzp07AZg6dSotLS1s3rwZgIkTJ7J3715WrVoFwMiRIxk1ahSLFpX+cw0YMIDGxkaamprYtWsXANOmTWP16tVs3VoawE+ePJldu3axZs0aAEaPHs2wYcP2jcwHDhxIQ0MDCxcuZM+ePQBMnz6dFStWsH37dgDq6+t5+umnWbt2LVAa2Q8ePJilS5cCMGjQIOrr65k/fz6ZSUQwY8YMli1bxo4dOwBoaGjgySefZN26df6e/D35e/L3VJXfU2eqdk6zfHj2WeAdmXl3RfttwOTMnNHOOh8HPpyZR1e0BbAb+MvMvDsiFgC/yMz3VPT5C+CbwLGdHZ5tbGxMD89KkipFxJLMbGxvWdUOz2bmbmAJcHabRWdTmvnankeA2og4qaJtHKURcusx5ybgje1ss7mzwJQkqauqfZ3m54GLIuLSiDg1Im4BRgCzASLihoj4UUX/HwJLga9FxOkRcTrwNUqHZVuHiLOBURFxc3mbl1I6/9l2wpEkSQelquc0M/NbETEE+ChwAqXLSWZmZuuo8QTgpIr+L0TE24B/pnRt5k7gIeC6zHyh3KclImYC/wS8G/gNcE1mfrtKuyVJOkJU9TrN3sZzmpKktnrFOU1Jkg53hqYkSQUZmpIkFWRoSpJUkKEpSVJBhqYkSQUZmpIkFWRoSpJUkKEpSVJBhqYkSQUZmpIkFWRoSpJUkKEpSVJBhqYkSQUZmpIkFWRoHuG+//3vM2HCBE4++WQ+/elPv2j5vHnzeNnLXsZpp53Gaaedxic+8YlC6956661MmDCBSZMm8YEPfOCQ74ckVUNtTxegnrN3717e85738NBDDzFq1CjOOOMMzjnnHCZOnLhfv7POOov777+/8Lo/+clPuO+++3jssceoq6tj69at1dwtSTpkHGkewRYvXszJJ5/MuHHj6NevHxdccAH33XffQa/7pS99iQ9+8IPU1dUBMHTo0EO2D5JUTYbmEWzjxo2MHj163/tRo0axcePGF/Vramqivr6et7zlLaxYseKA665evZqHH36YKVOmMGPGDB599NFDvCeSVB0enj2CZeaL2iJiv/cNDQ088cQTDBgwgLlz5zJr1izWrFnT6bp79uxhx44d/OxnP+PRRx/l/PPPZ+3atS/atiQdbhxpHsFGjRrF+vXr973fsGEDI0aM2K/PwIEDGTBgAAAzZ87k+eefZ9u2bZ2uO2rUKM4991wigjPPPJOjjjqKbdu2VWGPpL7tQBP3Wj366KPU1NRwzz337Gu75ZZbmDx5MpMmTeLmm29+0To33XQTEeF39QAMzSPYGWecwZo1a2hpaWH37t3cddddnHPOOfv12bx5875R5eLFi3nhhRcYMmRIp+vOmjWLH//4x0DpUO3u3bs5/vjjq7tzUh/TOvnugQceYOXKldx5552sXLmy3X7XX389b3rTm/a1LV++nDlz5rB48WKWLVvG/fffz5o1a/YtX79+PQ899BAnnnhiVfblcGZoHsFqa2v5whe+wJve9CZOPfVUzj//fCZNmsTs2bOZPXs2APfccw+TJ0+mvr6ea665hrvuuouI6HBdgIsvvpi1a9cyefJkLrjgAr7+9a97aFY6SEUn7t16662cd955+03Ae/zxx3nNa17DscceS21tLTNmzODee+/dt/y9730vN954o9/TAjyneYSbOXMmM2fO3K/tiiuu2Pf6qquu4qqrriq8LkC/fv244447urdQ6QjX3uS7RYsWvajPvffey49//OP9JuBNnjyZj3zkI2zfvp3+/fszd+5cGhsbAfjud7/LyJEjqa+vr86OHOYMTUk6DBSZuHfttdfymc98hpqamv3aTz31VK6//nrOPvtsBgwYQH19PbW1tTz77LN88pOf5MEHHzyktfclhqYkHQaKTNxrbm7mggsuAGDbtm3MnTuX2tpaZs2axSWXXMIll1wCwIc//GFGjRrFr371K1paWvaNMjds2EBDQwOLFy9m+PDhVdqzw4uhKUmHgcrJdyNHjuSuu+7im9/85n59Wlpa9r2+6KKLeNvb3sasWbMA2Lp1K0OHDuXXv/413/nOd2hqamLQoEH73bFrzJgxNDc3O3GvE4amJB0GKiff7d27l4svvnjfxD3Yfy5Ce8477zy2b9/O0UcfzW233cagQYOqUXafE+0dJz9SNDY2ZnNzc0+XIUnqRSJiSWY2trfMS04kSSrI0JQkqSBDU5KkggxNSZIKMjQlSSrI0JQkqSBDU5Kkgry5QTe47MWPplMfMOfanq5AUm/jSFOSpIIMTUmSCjI0JUkqyNCUJKkgJwJJOuI4ea9vqsbkPUeakiQVZGhKklSQoSlJUkGGpiRJBRmakiQVZGhKklSQoSlJUkGGpiRJBRmakiQVZGhKklSQoSlJUkGGpiRJBRmakiQVZGhKklRQ1UMzIq6MiJaIeC4ilkTEWQXXGx8RT0fEM23aXxcR2c7PKw/NHkiSjlRVDc2IeDtwC/Ap4HTgp8ADEXHiAdbrB9wFLOik2yTghIqfNd1RsyRJrao90rwOuD0z52Tm45l5NbAJePcB1vsM8Bhwdyd9tmbm5oqfvd1UsyRJQBVDszxafDXwYJtFDwKv7WS9twJvA645wEc0R8SmiPhRRLz+oIqVJKkd1RxpHg/UAFvatG8Bhre3QkScAMwBLszMpzvYbutI9TzgXGAV8KOImN4dRUuS1Kq2Bz4z27yPdtpa3QF8KTN/1uHGMldRCspWTRExBngf7ZwDjYjLgcsBRowYwbx58wAYN24cxx13HMuWLQNgyJAhTJo0iQULSpuora1l2rRpLF26lKeeegqAxsZGtmzZApzUye7qcNXc3Mwzz5TmnU2ZMoUNGzawceNGACZMmEBNTQ0rV64EYPjw4YwdO5ampiYA+vfvz5QpU1i0aBE7d+4EYOrUqbS0tLB582YAJk6cyN69e1m1qvTXd+TIkYwaNYpFixYBMGDAABobG2lqamLXrl0ATJs2jdWrV7N161YAJk+ezK5du1izpnQKf/To0QwbNozm5mYABg4cSENDAwsXLmTPnj0ATJ8+nRUrVrB9+3YA6uvrefrpp1m7di0AY8aMYfDgwSxduhSAQYMGUV9fz/z588lMIoIZM2awbNkyduzYAUBDQwNPPvkk69atAw7u+7R+/XoAxo8fT11dHcuXLwdg6NChnHLKKSxcuBCAuro6pk6d+pJ+T1DXxb8NOhxs2rSpW75PnYnMjvKqe5UPzz4LvCMz765ovw2YnJkz2lkngcpzk0FpdLwXuDIzv9LBZ30MuCAzT+2spsbGxmz9x+VgXHbzQW9CvdCca3u6Ah0qfmf7pu76zkbEksxsbG9Z1Uaambk7IpYAZ7P/hJ6zgW93sNqr2rz/U+AjwJnAxk4+7jRKh20lSeo21T48+3ngGxGxGHgEuAIYAcwGiIgbgDMz8w0Ambm8cuWIaAReqGyPiGuBdcAKoB/wTmAWpXOckiR1m6qGZmZ+KyKGAB+ldC3lcmBmZj5R7nICXT9B2A+4CRgJ7KQUnm/NzLndU7UkSSVVnwiUmV8EvtjBsosOsO7twO1t2m4Ebuye6iRJ6pj3npUkqSBDU5KkggxNSZIKMjQlSSrI0JQkqSBDU5KkggxNSZIKMjQlSSrI0JQkqSBDU5KkggxNSZIKMjQlSSrI0JQkqSBDU5KkggxNSZIKMjQlSSrI0JQkqSBDU5KkggxNSZIKMjQlSSqoS6EZEedHxB9XvP/7iNgQET+IiBO6vzxJknqPro40/6H1RUQ0AB8G/hk4Gvhc95UlSVLvU9vF/q8AVpVf/xnwH5l5Y0Q8CPygWyuTJKmX6epI8znguPLrNwA/LL/+fxXtkiT1SV0daT4MfC4iFgKNwJ+X208B1ndnYZIk9TZdHWleBeymFJZXZOZvyu1vwcOzkqQ+rksjzczcAPxJO+3XdltFkiT1Ul2+TjMijomIP4+I6yPi5eW2kyJicPeXJ0lS79GlkWZEnExp8s8A4OXA3cDvgHeX31/a3QVKktRbdHWkeTPwIDAM2FnR/l3g9d1VlCRJvVFXZ8++FnhNZu6NiMr2XwMjuq0qSZJ6oZdy79mj22k7kdK1mpIk9VldDc0Hgesq3mdEDAQ+Dnyv26qSJKkX6urh2euAn0TEKuAY4FvAycAW4Pxurk2SpF6lq9dp/iYiTgPeATRQGql+Bfi3zNzZ6cqSJB3mujrSpByOXyv/SJJ0xDhgaEbEucB/Zubz5dcdyszvdFtlkiT1MkVGmvcAw4Gt5dcdSaCmO4qSJKk3OmBoZuZR7b2WJOlI06UQjIjpEfGioI2ImoiY3n1lSZLU+3R15PgToL0bs7+8vEySpD6rq6EZlM5dtjUE+J+DL0eSpN6r0CUnEfHd8ssE7oiIXRWLa4DJwE+7uTZJknqVotdpbi//GcAO9n/CyW5gITCnG+uSJKnXKRSamfk3ABGxDrgpMz0UK0k64nT1NnofP1SFSJLU2xW5I9BjwIzM3BERv6D9iUAAZOYfdmdxkiT1JkVGmt8GWif+dHZHIEmS+rQidwT6eHuvJUk60nhbPEmSCipyTrPT85iVPKcpSerLij7lRJKkI16XzmlKknQk85ymJEkFeZ2mJEkFeZ2mJEkFeZ2mJEkFvaRzmhFxUkS8rfxzUhfXvTIiWiLiuYhYEhFnddJ3YkT8JCK2lPuvjYhPRUS/Nv1mlLfV2ueKl7JfkiR1pks3bI+IIcC/AOcAL/y+Oe4HLs7M7R2uXOr4duAW4EpKjxO7EnggIiZm5q/bWWU38HXg58DvgHpKjyCrBT5Q3uZYYC7wNeCdwDTgixHx28z8dlf2T5KkznR1pPlV4GTgLOCY8s90YCzFnqd5HXB7Zs7JzMcz82pgE/Du9jpn5n9n5u2ZuSwzn8jM7wL/Vv78VlcAv8nMq8vbnEMpaN/XxX2TJKlTXQ3NNwGXZeYjmbmn/PMI8L/LyzpUPqT6auDBNoseBF5b5MMj4mTgzcD8iuap7WzzB0BjRBxdZLuSJBXRpcOzwG+B9h5A/SzQ6aFZ4HigBtjSpn0L8MbOVoyInwINQB2lEe2HKxYPB37YzjZry5+5qc22LgcuBxgxYgTz5s0DYNy4cRx33HEsW7YMgCFDhjBp0iQWLFgAQG1tLdOmTWPp0qU89dRTADQ2NrJlyxagS6d1dZhobm7mmWeeAWDKlCls2LCBjRs3AjBhwgRqampYuXIlAMOHD2fs2LE0NTUB0L9/f6ZMmcKiRYvYuXMnAFOnTqWlpYXNmzcDMHHiRPbu3cuqVasAGDlyJKNGjWLRokUADBgwgMbGRpqamti1qzSBfdq0aaxevZqtW7cCMHnyZHbt2sWaNWsAGD16NMOGDaO5uRmAgQMH0tDQwMKFC9mzZw8A06dPZ8WKFWzfXvrK1tfX8/TTT7N27VoAxowZw+DBg1m6dCkAgwYNor6+nvnz55OZRAQzZsxg2bJl7NixA4CGhgaefPJJ1q1bBxzc92n9+vUAjB8/nrq6OpYvXw7A0KFDOeWUU1i4cCEAdXV1TJ069SX9nkr/lKiv2bRpU7d8nzoTmYVuK1vqHHEJ8FfAhZm5sdw2ktLh0Lsy86udrDsC2AhMz8yHK9o/BrwjM1/ZybqjgeMondP8LHBbZt5QXrYa+EZm/mNF/xnAPOCEzNzc0XYbGxuz9R+Xg3HZzQe9CfVCc67t6Qp0qPid7Zu66zsbEUsys7G9ZS/lhu1jgXURsbH8fiTwHDCU0jnPjmwD9lIaGVYayotHn/vJzPXllysjogb4akR8NjP3AJs72OYeDjz6lSSpsKrdsD0zd0fEEuBs4O6KRWdTuoFCUUdRqruGUjA2AbPa9DkbaM7M5196xZIk7a/aN2z/PPCNiFgMPEJp5usIYDZARNwAnJmZbyi/v5DSKPYXlC4/aQRuAO7JzNYDz7OBqyLiZuDLwB8BFwHv6Ma6JUnq8kSgg5KZ3ypf6/lR4ARgOTAzM58odzmB/WfV7AE+BIwHAngCuA34p4pttkTEzHLbu4HfANd4jaYkqbt19eYG/YCPUBrFnQjsd0lHZtYcaBuZ+UXgix0su6jN+zuBOwtscz6l2bWSJB0yXb1O8x+BdwGfo3RHoPdTGvltp3R3H0mS+qyuhub5wBWZ+WVKM2Hvy8xrgI9RmnwjSVKf1dXQHAasLL9+Bnh5+fX3gT/urqIkSeqNuhqav6Y02xXgv/n9rfOmAju7qyhJknqjrobmvcAbyq9vAT4eES3A7XR+YwNJkg57XZo9m5kfqnh9T0RsoHSz9dWZeX93FydJUm9yUNdpZubPgJ91Uy2SJPVqXT08S0Q0RMS/RkRz+ecbEeE1kpKkPq9LoRkRfwU8SunOPXPLP8OAxRHxzu4vT5Kk3qOrh2c/CfxdZn6qsjEiPgT8H+CO7ipMkqTepquHZ/8A+Pd22u+m9DguSZL6rK6G5k+A17XT/jpg/sEWI0lSb1bkIdTnVrx9ALghIhr5/azZ1wDnAv/Q7dVJktSLvNSHUF9e/ql0Kx08vUSSpL6gyEOou3xZiiRJfZGBKElSQS/l5gZvjYgFEbEtIn4bEfMjYuahKE6SpN6kqzc3uJTSTdt/BVwPfBBoAe6NiIu7vzxJknqPrt7c4Hrgusz8QkXbv0TEEkoB+rVuq0ySpF6mq4dnT6T0wOm2HgBecfDlSJLUe72Uh1Cf3U77HwNPHHw5kiT1Xl09PHsTcGv5qSY/BRKYBlwIXN3NtUmS1Kt09SHUX46IrcDfUroLEMDjwPmZeV93FydJUm9SODQjopbSYdgFmXnvoStJkqTeqfA5zczcA3wHOO7QlSNJUu/V1YlAy4CTD0UhkiT1dl0NzX8APhcRsyJidEQMrvw5BPVJktRrdHX27PfKf36H0szZVlF+X9MdRUmS1Bt1NTRff0iqkCTpMFAoNCPiWOCzwCzgaOCHwDWZue0Q1iZJUq9S9Jzmx4GLKB2evZPSXYG+dIhqkiSpVyp6ePZc4JLMvAsgIv4NeCQiajJz7yGrTpKkXqToSHM08HDrm8xcDOwBRhyKoiRJ6o2KhmYNsLtN2x66PpFIkqTDVtHQC+COiNhV0XYMMCcinm1tyMxzurM4SZJ6k6Kh+fV22u7ozkIkSertCoVmZv7NoS5EkqTerqu30ZMk6YhlaEqSVJChKUlSQYamJEkFGZqSJBVkaEqSVJChKUlSQYamJEkFGZqSJBVkaEqSVJChKUlSQYamJEkFGZqSJBVkaEqSVJChKUlSQYamJEkFGZqSJBVkaEqSVJChKUlSQVUPzYi4MiJaIuK5iFgSEWd10veYiLg9Ih6LiOcjYl47fV4XEdnOzysP6Y5Iko44VQ3NiHg7cAvwKeB04KfAAxFxYger1ADPAV8AvneAzU8CTqj4WdMdNUuS1Kq2yp93HXB7Zs4pv786It4MvBv4UNvOmfk/wBUAEfGHwMs72fbWzNzWzfVKkrRP1UaaEdEPeDXwYJtFDwKv7YaPaI6ITRHxo4h4fTdsT5Kk/VRzpHk8pcOtW9q0bwHeeBDb3URppPoo0A+4EPhRRLwuMxe07RwRlwOXA4wYMYJ58+YBMG7cOI477jiWLVsGwJAhQ5g0aRILFpQ2UVtby7Rp01i6dClPPfUUAI2NjWzZsgU46SDKV2/V3NzMM888A8CUKVPYsGEDGzduBGDChAnU1NSwcuVKAIYPH87YsWNpamoCoH///kyZMoVFixaxc+dOAKZOnUpLSwubN28GYOLEiezdu5dVq1YBMHLkSEaNGsWiRYsAGDBgAI2NjTQ1NbFr1y4Apk2bxurVq9m6dSsAkydPZteuXaxZUzobMXr0aIYNG0ZzczMAAwcOpKGhgYULF7Jnzx4Apk+fzooVK9i+fTsA9fX1PP3006xduxaAMWPGMHjwYJYuXQrAoEGDqK+vZ/78+WQmEcGMGTNYtmwZO3bsAKChoYEnn3ySdevWAQf3fVq/fj0A48ePp66ujuXLlwMwdOhQTjnlFBYuXAhAXV0dU6dOfUm/J6jr4t8GHQ42bdrULd+nzkRmHsJdqPigiBHARmB6Zj5c0f4x4B2Z2enEnYj4AjA5M19X4LPmAnsy85zO+jU2NmbrPy4H47KbD3oT6oXmXNvTFehQ8TvbN3XXdzYilmRmY3vLqjkRaBuwFxjepn0oLx59HqxFwPhu3qYk6QhXtdDMzN3AEuDsNovOpjSLtjudRumwrSRJ3abas2c/D3wjIhYDj1CaGTsCmA0QETcAZ2bmG1pXiIiJlM5VHg8MiIjTADLzv8rLrwXWASvK/d4JzALOq84uSZKOFFUNzcz8VkQMAT5K6VrK5cDMzHyi3OUEXjyrZi7wior3Py//GeU/+wE3ASOBnZTC862ZObf790CSdCSr9kiTzPwi8MUOll3UTtuYA2zvRuDG7qhNkqTOeO9ZSZIKMjQlSSrI0JQkqSBDU5KkggxNSZIKMjQlSSrI0JQkqSBDU5KkggxNSZIKMjQlSSrI0JQkqSBDU5KkggxNSZIKMjQlSSrI0JQkqSBDU5KkggxNSZIKMjQlSSrI0JQkqSBDU5KkggxNSZIKMjQlSSrI0JQkqSBDU5KkggxNSZIKMjQlSSrI0JQkqSBDU5KkggxNSZIKMjQlSSrI0JQkqSBDU5KkggxNSZIKMjQlSSrI0JQkqSBDU5KkggxNSZIKMjQlSSrI0JQkqSBDU5KkggxNSZIKMjQlSSrI0JQkqSBDU5KkggxNSZIKMjQlSSrI0JQkqSBDU5KkggxNSZIKMjQlSSrI0JQkqSBDU5KkggxNSZIKMjQlSSrI0JQkqSBDU5KkgqoemhFxZUS0RMRzEbEkIs46QP9XRcT8iNgZERsj4u8jItr0mVHe1nMRsTYirji0eyFJOhJVNTQj4u3ALcCngNOBnwIPRMSJHfQfCDwEbAHOAK4B3g9cV9FnLDC3vK3TgRuAWyPivEO3J5KkI1G1R5rXAbdn5pzMfDwzrwY2Ae/uoP9fAccC78rM5Zn5beAzwHUVo80rgN9k5tXlbc4Bvg6879DuiiTpSFO10IyIfsCrgQfbLHoQeG0Hq00FHs7MnRVtPwBGAGMq+rTd5g+Axog4+mBqliSpUm0VP+t4oIbSodZKW4A3drDOcGBDO/1bl7WU//xhO31qy5+5qXJBRFwOXF5++0xErCpYv0qOB7b1dBHV8NX39nQFUrfwO9t1r+hoQTVDs1W2eR/ttB2of9v2In1KDZlfAb5ygBrVgYhozszGnq5DUjF+Z7tXNc9pbgP2UhoZVhrKi0efrTZ30J+KdTrqswfY/pIqlSSpHVULzczcDSwBzm6z6GxKM1/b0wScFRHHtOn/G2BdRZ+2h3fPBpoz8/mDqVmSpErVnj37eeCiiLg0Ik6NiFsoTeqZDRARN0TEjyr6fxN4Frg9IiZHxLnAB4HPZ2brodfZwKiIuLm8zUuBi4CbqrRPRxoPbUuHF7+z3Sh+nz1V+sCIK4EPACcAy4H3ZuaC8rLbgddl5piK/q8CbgPOBHZQCslPVIQmETED+CdgEqVR6Gcyc3Y19keSdOSoemhKknS48t6zkiQVZGhKklSQoSlJUkGGpiRJBfXEHYF0mImIicBE4GXA/wCLMrOlZ6uSpOpz9qw6FREfpPS0mfHARkp3WXoB+Dml62gfATL9iyTpCGBoqkMRMYTSnZfen5mzI2I0petlp1J6Ys0xwIcyc16PFSlpn/KTncYCT2Tmrp6upy/ynKY68xfAL1tvFJGZ6zPz25n5PuBaSiPP70bEuJ4sUtI+76F0FGh2RPxJRAyPiJrKDhExMCLe4qMTXxpDU53ZDhwfEdMBIqKm9QuYmcuAdwIrgTf3XImSKrwdWAycDPwHpXtzfzYipkXEy8p9/hL4mPfmfmkMTXXme8ATwN9GxKsyc29m7m1dmJnPUXqazJCeKlBSSUT8AfA8MCczz6L0TMh/Ad4GLAB+HBHXUzpKtKjHCj3MeU5T7YqIyMyMiD8CbgVeBTxA6Uv4GDAYeC3wCeD0zFzXU7VKgog4AbgAWJmZP2iz7HTg0vLyQcDozNxY/SoPf4amOhURA4E6ShN/LgTeWn6/mdIo8wuZeUvPVWOkI50AAAIySURBVCipVUT0pzSb/bmIiNb21tntEfFJYGZmnt5TNR7uvE5TLxIRQykF5HXAk8BzlJ4e8z3gY8DLgROBRzKzoweIS6qyzNzZGpZtLwOLiGOB84D/2xO19RWONPUi5Ue0TQL+k1JoDgbqgVdSCs8PZ+ajPVagpP2Ujwg93dn10hFxDKWJQndm5u6qFdfHGJraT/n/Up+mdAhnQUXbicAUSudFxgF/kZk/77FCJe0TEV+mNGt2MaVrNJ9qp8/LM/N3VS+uj3H2rNqaCLQA+/5PNEueyMx/pzQT73fA+T1Un6QKEfEO4DLgc8B9lC4x+bOIOKl8jrP1XOfXI2JyD5baJzjS1H7KX677gWOBvwZ+lZkvtOlzNXBJZp7WAyVKqhARc4C9wI3AucC7gJOAVcBc4EfABOCWzOzXU3X2FY40tZ/M3Al8BOgP/Cvw1xExOiL+F+ybTDADWN5zVUoCiIhaSkeGfpeZazPzpsx8FXAGMJ9SgP47pcvGvtFzlfYdjjTVrvJhnL8DzqH0ZJMm4LfAG4FNwKWZ+Yueq1ASQEQMAoZl5i8joh/wfOWEoIh4O3An0JCZ/9VTdfYVhqY6Vb785K3ALEqXniwH7s7MX/ZoYZI6FBFHUfr3fW9EXEbp0OyxPV1XX2BoqrCIOKrt+U1JvVtEXAfUZOZne7qWvsDQlKQ+rPw0k73+D2/3MDQlSSrI2bOSJBVkaEqSVJChKUlSQYamJEkFGZqSJBVkaEqSVND/B+zk3HYNoFkpAAAAAElFTkSuQmCC\n",
      "text/plain": [
       "<Figure size 504x360 with 1 Axes>"
      ]
     },
     "execution_count": 16,
     "metadata": {},
     "output_type": "execute_result"
    }
   ],
   "source": [
    "plot_histogram(result.get_counts(circuit))"
   ]
  },
  {
   "cell_type": "code",
   "execution_count": 17,
   "metadata": {},
   "outputs": [
    {
     "data": {
      "text/plain": [
       "<AccountProvider for IBMQ(hub='ibm-q', group='open', project='main')>"
      ]
     },
     "execution_count": 17,
     "metadata": {},
     "output_type": "execute_result"
    }
   ],
   "source": [
    "# You will need to create an IBMQ-account where you will gain access to an api\n",
    "# To create this connection execute the following commands in Python on your local device\n",
    "# from qiskit import IBMQ\n",
    "# IBMQ.save_account('YOUR_PERSONAL_API_KEY')\n",
    "\n",
    "IBMQ.load_account()"
   ]
  },
  {
   "cell_type": "code",
   "execution_count": 18,
   "metadata": {},
   "outputs": [],
   "source": [
    "provider = IBMQ.get_provider('ibm-q')"
   ]
  },
  {
   "cell_type": "code",
   "execution_count": 19,
   "metadata": {},
   "outputs": [],
   "source": [
    "# Here you will need your IBMQ account\n",
    "# to look at which quantum devices you will have acces\n",
    "qcomp = provider.get_backend('ibmq_essex')"
   ]
  },
  {
   "cell_type": "code",
   "execution_count": 20,
   "metadata": {},
   "outputs": [],
   "source": [
    "job = execute(circuit, backend = qcomp)"
   ]
  },
  {
   "cell_type": "code",
   "execution_count": 21,
   "metadata": {},
   "outputs": [],
   "source": [
    "from qiskit.tools.monitor import job_monitor"
   ]
  },
  {
   "cell_type": "code",
   "execution_count": null,
   "metadata": {},
   "outputs": [
    {
     "name": "stdout",
     "output_type": "stream",
     "text": [
      "Job Status: job is queued (4)     "
     ]
    }
   ],
   "source": [
    "job_monitor(job)"
   ]
  },
  {
   "cell_type": "code",
   "execution_count": null,
   "metadata": {},
   "outputs": [],
   "source": [
    "result = job.result()"
   ]
  },
  {
   "cell_type": "code",
   "execution_count": null,
   "metadata": {},
   "outputs": [],
   "source": [
    "plot_histogram(result.get_counts(circuit))"
   ]
  },
  {
   "cell_type": "code",
   "execution_count": null,
   "metadata": {},
   "outputs": [],
   "source": []
  },
  {
   "cell_type": "code",
   "execution_count": null,
   "metadata": {},
   "outputs": [],
   "source": []
  },
  {
   "cell_type": "code",
   "execution_count": null,
   "metadata": {},
   "outputs": [],
   "source": []
  }
 ],
 "metadata": {
  "kernelspec": {
   "display_name": "Python 3",
   "language": "python",
   "name": "python3"
  },
  "language_info": {
   "codemirror_mode": {
    "name": "ipython",
    "version": 3
   },
   "file_extension": ".py",
   "mimetype": "text/x-python",
   "name": "python",
   "nbconvert_exporter": "python",
   "pygments_lexer": "ipython3",
<<<<<<< HEAD
   "version": "3.7.7"
=======
   "version": "3.8.1"
>>>>>>> 4aaf4e8af88244b010c09c252415c294c19ce247
  }
 },
 "nbformat": 4,
 "nbformat_minor": 2
}
