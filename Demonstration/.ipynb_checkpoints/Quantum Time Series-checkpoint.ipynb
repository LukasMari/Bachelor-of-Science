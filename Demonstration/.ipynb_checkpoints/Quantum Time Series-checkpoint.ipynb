{
 "cells": [
  {
   "cell_type": "code",
   "execution_count": 4,
   "metadata": {},
   "outputs": [],
   "source": [
    "%matplotlib inline\n",
    "from qiskit.finance.data_providers import *\n",
    "import warnings\n",
    "warnings.filterwarnings(\"ignore\", category=DeprecationWarning)\n",
    "import datetime\n",
    "import matplotlib.pyplot as plt\n",
    "from pandas.plotting import register_matplotlib_converters\n",
    "register_matplotlib_converters()"
   ]
  },
  {
   "cell_type": "code",
   "execution_count": 7,
   "metadata": {},
   "outputs": [
    {
     "name": "stdout",
     "output_type": "stream",
     "text": [
      "[[19.62434536366324, 19.012588950013168, 18.48441719774971, 17.41144857559354, 18.276856204918218, 15.975317508037936, 17.720129272254415, 16.958922371359314, 17.27796146741641, 17.028591091939003, 18.490699028983975, 16.430558319486323, 16.108141115472815, 15.724086760804399, 16.857856203139836, 15.757964935825806, 15.58553672827537, 14.707678310353998, 14.74989205706959, 15.332707270785413, 14.232088093572491, 15.376811803412107, 16.2784025240049, 16.78089686290677, 17.68175281217118, 16.998024952996847, 16.8751347274782, 15.939365293219131, 15.671477213593114], [73.53035546673819, 72.83869471501288, 72.4419411881569, 71.7547684880373, 70.90956284653858, 70.23831671570176, 70.22565211678285, 69.10834176814758, 69.34275746596468, 71.00255964307455, 71.74460380365188, 71.55276825129026, 70.66513928720543, 69.91798099345459, 71.61043559448234, 71.66124334925837, 71.02424770268901, 71.21516318735648, 73.31541832383532, 73.43557727631695, 74.05278038602437, 74.35295070598019, 74.00070085948668, 72.85818266146454, 72.50883993905167, 72.29994570567689, 72.88656889685907, 73.72555231073359, 74.65665439203714], [98.28558732525426, 99.17072848952499, 98.41633054852834, 99.66919870376162, 100.18212852417963, 99.88403568907691, 100.37255383561441, 100.29698212259336, 101.42861151004479, 102.94842832646698, 105.13400373300014, 103.737507397512, 102.29339359208242, 101.78892772913596, 101.9489647985838, 102.82513371970002, 103.14076866694163, 101.11856745111763, 100.81236343848926, 101.6403380810965, 101.87043281646088, 102.6324439967729, 102.41011585416254, 102.20935778523256, 102.39591917622083, 102.80597082342909, 103.00427054355586, 103.12327918936332, 102.45261690307429]]\n"
     ]
    }
   ],
   "source": [
    "data = RandomDataProvider(tickers=[\"TICKER1\", \"TICKER2\", \"TICKER3\"],\n",
    "                 start = datetime.datetime(2013, 1, 1),\n",
    "                 end = datetime.datetime(2013, 1, 30),\n",
    "                 seed = 1)\n",
    "data.run()\n",
    "\n",
    "print(data._data)"
   ]
  },
  {
   "cell_type": "code",
   "execution_count": 8,
   "metadata": {},
   "outputs": [
    {
     "name": "stdout",
     "output_type": "stream",
     "text": [
      "Means:\n",
      "[ 16.66722941  72.03026566 101.65513658]\n",
      "A time-series similarity measure:\n",
      "[[1.00000000e+00 6.22848040e-04 4.05737237e-04]\n",
      " [6.22848040e-04 1.00000000e+00 1.16398005e-03]\n",
      " [4.05737237e-04 1.16398005e-03 1.00000000e+00]]\n"
     ]
    },
    {
     "data": {
      "image/png": "[encoded data removed]",
      "text/plain": [
       "<Figure size 432x288 with 1 Axes>"
      ]
     },
     "metadata": {
      "needs_background": "light"
     },
     "output_type": "display_data"
    },
    {
     "name": "stdout",
     "output_type": "stream",
     "text": [
      "A covariance matrix:\n",
      "[[ 1.75870991 -0.32842528 -0.81227048]\n",
      " [-0.32842528  2.31429182  0.27625379]\n",
      " [-0.81227048  0.27625379  2.58457876]]\n"
     ]
    },
    {
     "data": {
      "image/png": "[encoded data removed]",
      "text/plain": [
       "<Figure size 432x288 with 1 Axes>"
      ]
     },
     "metadata": {
      "needs_background": "light"
     },
     "output_type": "display_data"
    }
   ],
   "source": [
    "print(\"\")\n",
    "means = data.get_mean_vector()\n",
    "print(\"Means:\")\n",
    "print(means)\n",
    "\n",
    "rho = data.get_similarity_matrix()\n",
    "print(\"A time-series similarity measure:\")\n",
    "print(rho)\n",
    "plt.imshow(rho)\n",
    "plt.show()\n",
    "\n",
    "cov = data.get_covariance_matrix()\n",
    "print(\"A covariance matrix:\")\n",
    "print(cov)\n",
    "plt.imshow(cov)\n",
    "plt.show()"
   ]
  },
  {
   "cell_type": "code",
   "execution_count": null,
   "metadata": {},
   "outputs": [],
   "source": [
    "print(\"Visualising the pseudo-random generated data that should represent 3 stocks.\")"
   ]
  },
  {
   "cell_type": "code",
   "execution_count": 18,
   "metadata": {},
   "outputs": [
    {
     "name": "stdout",
     "output_type": "stream",
     "text": [
      "This version has been altered as to show its potential in a thesis for a Bachelor of Science; by Lukas Marivoet\n",
      "\n",
      "© Copyright IBM 2017, 2019. This code is licensed under the Apache License, Version 2.0. You may obtain a copy of this license in the LICENSE.txt file in the root directory of this source tree or at http://www.apache.org/licenses/LICENSE-2.0.Any modifications or derivative works of this code must retain this copyright notice, and modified files need to carry a notice indicating that they have been altered from the originals.\n"
     ]
    }
   ],
   "source": [
    "print(\"This version has been altered as to show its potential in a thesis for a Bachelor of Science; by Lukas Marivoet\\n\")\n",
    "print(\"© Copyright IBM 2017, 2019. This code is licensed under the Apache License, Version 2.0. You may obtain a copy of this license in the LICENSE.txt file in the root directory of this source tree or at http://www.apache.org/licenses/LICENSE-2.0.Any modifications or derivative works of this code must retain this copyright notice, and modified files need to carry a notice indicating that they have been altered from the originals.\")"
   ]
  },
  {
   "cell_type": "code",
   "execution_count": null,
   "metadata": {},
   "outputs": [],
   "source": []
  }
 ],
 "metadata": {
  "kernelspec": {
   "display_name": "Python 3",
   "language": "python",
   "name": "python3"
  },
  "language_info": {
   "codemirror_mode": {
    "name": "ipython",
    "version": 3
   },
   "file_extension": ".py",
   "mimetype": "text/x-python",
   "name": "python",
   "nbconvert_exporter": "python",
   "pygments_lexer": "ipython3",
   "version": "3.7.7"
  }
 },
 "nbformat": 4,
 "nbformat_minor": 4
}
